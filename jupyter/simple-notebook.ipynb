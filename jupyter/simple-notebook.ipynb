{
 "cells": [
  {
   "cell_type": "markdown",
   "id": "26ecfc12-f8fa-4e07-8857-49584fa01b3d",
   "metadata": {},
   "source": [
    "# best notebook ever\n",
    "\n",
    "## my first one!!!\n",
    "\n",
    "here we go\n",
    "\n",
    "Collapse the output after run by left-clicking on the section-bar to the left"
   ]
  },
  {
   "cell_type": "code",
   "execution_count": 8,
   "id": "e68a77a9-0dad-48e9-968b-39b450fe4055",
   "metadata": {},
   "outputs": [],
   "source": [
    "import numpy as np"
   ]
  },
  {
   "cell_type": "code",
   "execution_count": 9,
   "id": "78571f58-35c3-4b14-9b94-02b475312e6b",
   "metadata": {},
   "outputs": [
    {
     "name": "stdout",
     "output_type": "stream",
     "text": [
      "0\n",
      "1\n",
      "2\n",
      "3\n",
      "4\n",
      "5\n",
      "6\n",
      "7\n",
      "8\n",
      "9\n",
      "10\n",
      "11\n",
      "12\n",
      "13\n",
      "14\n",
      "15\n",
      "16\n",
      "17\n",
      "18\n",
      "19\n",
      "20\n",
      "21\n",
      "22\n",
      "23\n",
      "24\n",
      "25\n",
      "26\n",
      "27\n",
      "28\n",
      "29\n",
      "30\n",
      "31\n",
      "32\n",
      "33\n",
      "34\n",
      "35\n",
      "36\n",
      "37\n",
      "38\n",
      "39\n",
      "40\n",
      "41\n",
      "42\n",
      "43\n",
      "44\n",
      "45\n",
      "46\n",
      "47\n",
      "48\n",
      "49\n"
     ]
    }
   ],
   "source": [
    "for i in range(50):\n",
    "  print(i)"
   ]
  },
  {
   "cell_type": "markdown",
   "id": "81dc28e7-a78c-43a6-b72f-7695216260c6",
   "metadata": {},
   "source": [
    "Markdown can do formulas mathjax forumals\n",
    "\n",
    "\\begin{align}\n",
    "\\dot{x} & = \\sigma(y-x) \\\\\n",
    "\\dot{y} & = \\rho x - y - xz \\\\\n",
    "\\dot{z} & = -\\beta z + xy\n",
    "\\end{align}"
   ]
  },
  {
   "cell_type": "markdown",
   "id": "a1275549",
   "metadata": {},
   "source": [
    "local module imports - must be in same folder"
   ]
  },
  {
   "cell_type": "code",
   "execution_count": 10,
   "id": "5f2ae093",
   "metadata": {},
   "outputs": [
    {
     "name": "stdout",
     "output_type": "stream",
     "text": [
      "0 1 1 2 3 5 8 13 21 34 55 89 144 233 377 610 987 1597 2584 4181 6765 10946 17711 28657 46368 75025 121393 196418 317811 514229 832040 \n"
     ]
    }
   ],
   "source": [
    "import helpers as helpers\n",
    "\n",
    "helpers.fib(1000000)"
   ]
  },
  {
   "cell_type": "code",
   "execution_count": 11,
   "id": "c766e41a-571c-43f6-b393-d738d45377a1",
   "metadata": {},
   "outputs": [
    {
     "data": {
      "text/plain": [
       "['hello world', 'hello world', 'hello world', 'hello world']"
      ]
     },
     "execution_count": 11,
     "metadata": {},
     "output_type": "execute_result"
    }
   ],
   "source": [
    "mylist = [\"hello world\"]\n",
    "mylist * 4"
   ]
  },
  {
   "cell_type": "code",
   "execution_count": 12,
   "id": "b3161f8a-a64e-4032-b8f8-2b2cbc4fe847",
   "metadata": {},
   "outputs": [],
   "source": [
    "myarray1 = [1,2,3]\n",
    "myarray2 = [5,6,7]\n",
    "# this doesn't work in python - need numpy to do array arithmetic\n",
    "\n",
    "# myarray1 * myarray2\n"
   ]
  },
  {
   "cell_type": "code",
   "execution_count": null,
   "id": "b9485d3f-7f57-4dfd-a80d-d77e93c487c0",
   "metadata": {},
   "outputs": [],
   "source": []
  },
  {
   "cell_type": "markdown",
   "id": "ce7514cc-e4f8-484f-92da-8e00fe8404ef",
   "metadata": {},
   "source": [
    "test"
   ]
  },
  {
   "cell_type": "code",
   "execution_count": 13,
   "id": "4bfb6d84-f044-47bb-add8-fd64dafea5f3",
   "metadata": {},
   "outputs": [
    {
     "name": "stdout",
     "output_type": "stream",
     "text": [
      "38\n",
      "[-4  8 -4]\n"
     ]
    }
   ],
   "source": [
    "print(np.dot(np.array(myarray1), np.array(myarray2)))\n",
    "print(np.cross(np.array(myarray1), np.array(myarray2)))"
   ]
  },
  {
   "cell_type": "code",
   "execution_count": 14,
   "id": "76a2df22-4c6b-462a-afb7-27ba9ab1b3e8",
   "metadata": {},
   "outputs": [
    {
     "name": "stdout",
     "output_type": "stream",
     "text": [
      "[6 7 8]\n"
     ]
    }
   ],
   "source": [
    "print(np.array(myarray1) + 5)\n"
   ]
  },
  {
   "cell_type": "code",
   "execution_count": 15,
   "id": "92fdc854-eb30-4f40-9005-79962f5df3cb",
   "metadata": {},
   "outputs": [
    {
     "name": "stdout",
     "output_type": "stream",
     "text": [
      "[0.33333333 0.66666667 1.        ]\n"
     ]
    }
   ],
   "source": [
    "print(np.array(myarray1)/3)"
   ]
  }
 ],
 "metadata": {
  "kernelspec": {
   "display_name": "myenv",
   "language": "python",
   "name": "python3"
  },
  "language_info": {
   "codemirror_mode": {
    "name": "ipython",
    "version": 3
   },
   "file_extension": ".py",
   "mimetype": "text/x-python",
   "name": "python",
   "nbconvert_exporter": "python",
   "pygments_lexer": "ipython3",
   "version": "3.12.6"
  }
 },
 "nbformat": 4,
 "nbformat_minor": 5
}
